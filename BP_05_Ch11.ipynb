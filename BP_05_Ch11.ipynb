{
  "nbformat": 4,
  "nbformat_minor": 0,
  "metadata": {
    "colab": {
      "provenance": [],
      "authorship_tag": "ABX9TyP/xn/Bq8EYiG6fY38KUoHL",
      "include_colab_link": true
    },
    "kernelspec": {
      "name": "python3",
      "display_name": "Python 3"
    },
    "language_info": {
      "name": "python"
    }
  },
  "cells": [
    {
      "cell_type": "markdown",
      "metadata": {
        "id": "view-in-github",
        "colab_type": "text"
      },
      "source": [
        "<a href=\"https://colab.research.google.com/github/LEE-GYEONG-A/BP_05_Ch11/blob/main/BP_05_Ch11.ipynb\" target=\"_parent\"><img src=\"https://colab.research.google.com/assets/colab-badge.svg\" alt=\"Open In Colab\"/></a>"
      ]
    },
    {
      "cell_type": "code",
      "execution_count": null,
      "metadata": {
        "id": "lAhyljB3PtjO"
      },
      "outputs": [],
      "source": [
        "#문제1\n",
        "from google.colab import files            # 내 컴퓨터의 파일을 코랩에 업로드해서\n",
        "uploaded = files.upload()                 # 처리하는 부분입니다.\n",
        "\n",
        "filename = input(\"파일 이름을 입력하시오: \").strip()\n",
        "infile = open(filename, \"r\")\n",
        "count = 0\n",
        "\n",
        "for line in infile:\n",
        "  for ch in line:\n",
        "    count += 1\n",
        "\n",
        "print(\"파일 안에는 총\", count, \"개의 글자가 있습니다.\")\n",
        "infile.close() #파일을 닫는다."
      ]
    },
    {
      "cell_type": "code",
      "source": [
        "#문제2\n",
        "infilename = input(\"파일명을 입력하시오:\").strip()       #파일 검색\n",
        "infile = open(infilename, \"r\")\n",
        "file_s = infile.read()\n",
        "removed_s = input(\"삭제할 문자열을 입력하시오:\").strip() #삭제할 문자열 입력\n",
        "modified_s = file_s.replace(removes_s, \"\")\n",
        "\n",
        "infile.close()\n",
        "outtile = open(infilename, \"w\")\n",
        "\n",
        "print(modified_s, file = outfile, end = \"\")\n",
        "print(\"변경된 파일이 저장되었습니다.\")\n",
        "outfile.colse()                  #파일 닫는다."
      ],
      "metadata": {
        "id": "OQkuArzQrQ7S"
      },
      "execution_count": null,
      "outputs": []
    },
    {
      "cell_type": "code",
      "source": [
        "#문제3\n",
        "infile = open(filename, \"r\")   #파일에서 읽기\n",
        "for line in infile:\n",
        "  ...\n",
        "def countLine(line, counter):\n",
        "  for ch in line:\n",
        "    if ch.isalpha():\n",
        "      if ch in counter:\n",
        "        counter[ch] = counter[ch] + 1\n",
        "      else:\n",
        "        counter[ch] = 1\n",
        "fname = input(\"입력 파일 이름:\").strip()\n",
        "infile = open(fname, \"r\")\n",
        "\n",
        "my_dict = {}\n",
        "for line in infile:\n",
        "  countLine(line, my_dict)\n",
        "\n",
        "print(my_dict)\n",
        "infile.close()    #파일 닫음"
      ],
      "metadata": {
        "id": "1sRnlFpjrPws",
        "colab": {
          "base_uri": "https://localhost:8080/",
          "height": 262
        },
        "outputId": "6ecac8d9-c47b-4429-97d8-b92679dd4ced"
      },
      "execution_count": 10,
      "outputs": [
        {
          "name": "stdout",
          "output_type": "stream",
          "text": [
            "입력 파일 이름:words\n"
          ]
        },
        {
          "output_type": "error",
          "ename": "FileNotFoundError",
          "evalue": "ignored",
          "traceback": [
            "\u001b[0;31m---------------------------------------------------------------------------\u001b[0m",
            "\u001b[0;31mFileNotFoundError\u001b[0m                         Traceback (most recent call last)",
            "\u001b[0;32m<ipython-input-10-c5dcd635cae5>\u001b[0m in \u001b[0;36m<module>\u001b[0;34m\u001b[0m\n\u001b[1;32m     11\u001b[0m         \u001b[0mcounter\u001b[0m\u001b[0;34m[\u001b[0m\u001b[0mch\u001b[0m\u001b[0;34m]\u001b[0m \u001b[0;34m=\u001b[0m \u001b[0;36m1\u001b[0m\u001b[0;34m\u001b[0m\u001b[0;34m\u001b[0m\u001b[0m\n\u001b[1;32m     12\u001b[0m \u001b[0mfname\u001b[0m \u001b[0;34m=\u001b[0m \u001b[0minput\u001b[0m\u001b[0;34m(\u001b[0m\u001b[0;34m\"입력 파일 이름:\"\u001b[0m\u001b[0;34m)\u001b[0m\u001b[0;34m.\u001b[0m\u001b[0mstrip\u001b[0m\u001b[0;34m(\u001b[0m\u001b[0;34m)\u001b[0m\u001b[0;34m\u001b[0m\u001b[0;34m\u001b[0m\u001b[0m\n\u001b[0;32m---> 13\u001b[0;31m \u001b[0minfile\u001b[0m \u001b[0;34m=\u001b[0m \u001b[0mopen\u001b[0m\u001b[0;34m(\u001b[0m\u001b[0mfname\u001b[0m\u001b[0;34m,\u001b[0m \u001b[0;34m\"r\"\u001b[0m\u001b[0;34m)\u001b[0m\u001b[0;34m\u001b[0m\u001b[0;34m\u001b[0m\u001b[0m\n\u001b[0m\u001b[1;32m     14\u001b[0m \u001b[0;34m\u001b[0m\u001b[0m\n\u001b[1;32m     15\u001b[0m \u001b[0mmy_dict\u001b[0m \u001b[0;34m=\u001b[0m \u001b[0;34m{\u001b[0m\u001b[0;34m}\u001b[0m\u001b[0;34m\u001b[0m\u001b[0;34m\u001b[0m\u001b[0m\n",
            "\u001b[0;31mFileNotFoundError\u001b[0m: [Errno 2] No such file or directory: 'words'"
          ]
        }
      ]
    },
    {
      "cell_type": "code",
      "source": [
        "#문제4\n",
        "import pickle\n",
        "\n",
        "outfile = open(\"test.dat\", \"wb\")\n",
        "pickle.dump(12, outtile)\n",
        "pickle.dump(3.14, outtile)\n",
        "pickle.dump([1, 2, 3, 4, 5], outfile)\n",
        "outfile.close()\n",
        "\n",
        "infile = open(\"test.dat\", \"rb\")\n",
        "print(pickle.load(infile))\n",
        "print(pickle.load(infile))\n",
        "print(pickle.load(infile))\n",
        "infile.close()"
      ],
      "metadata": {
        "id": "GcXFvLWCveQY"
      },
      "execution_count": null,
      "outputs": []
    },
    {
      "cell_type": "code",
      "source": [
        "#문제5\n",
        "inFileName = input(\"입력 파일 이름:\")\n",
        "outFileName = input(\"출력 파일 이름:\")\n",
        "\n",
        "infile = open(inFileName, \"r\")\n",
        "outfule = open(outFileName, \"w\")\n",
        "\n",
        "total =0.0\n",
        "count =0\n",
        "\n",
        "line = infile.readline()\n",
        "while line != \"\":\n",
        "  value = float(line)\n",
        "  total = total + value\n",
        "  count = count + 1\n",
        "  line = infile.readline()\n",
        "\n",
        "outfile.write(\"합계=\"+str(total)+\"\\n\")\n",
        "\n",
        "avg = total / count\n",
        "outfile.write(\"평균=\"+str(avg)+\"\\n\")\n",
        "\n",
        "infule.close()\n",
        "outfile.close()"
      ],
      "metadata": {
        "id": "t-TMv3Y5vw6Q"
      },
      "execution_count": null,
      "outputs": []
    },
    {
      "cell_type": "code",
      "source": [
        "#문제6\n",
        "import pickle\n",
        "from tkinter import *\n",
        "\n",
        "phone_book = { }\n",
        "current = 0\n",
        "name = \"\"\n",
        "phone = \"\"\n",
        "\n",
        "window = Tk()\n",
        "\n",
        "frame1 = Frame(window)\n",
        "frame1.pack()\n",
        "Label(frame1, text=\"이름  \").grid(row=1, column=1, sticky=W)\n",
        "nameEntry = Entry(frame1, textvariable = name, width=30)\n",
        "nameEntry.grid(row=1, column=2)\n",
        "\n",
        "frame2 = Frame(window)\n",
        "frame2.pack()\n",
        "Label(frame2, text=\"전화번호\").grid(row=1, column=1, sticky=W)\n",
        "phoneEntry = Entry(frame2, textvariable = phone, width=30)\n",
        "phoneEntry.grid(row=1, column=2)\n",
        "\n",
        "frame3 = Frame(window) \n",
        "frame3.pack()\n",
        "\n",
        "def save():\n",
        "  outfile = open(\"phonebook.dat\", \"wb\")\n",
        "  pickle.dump(phone_book, outfile)\n",
        "  print(\"주소들이 파일에 저장되었습니다.\")\n",
        "  outfile.close()\n",
        "\n",
        "def load():\n",
        "  infile = open(\"phonebook.dat\", \"rb\")\n",
        "  phone_book = pickle.load(infile)\n",
        "  infile.close()\n",
        "  print(\"파일에서 주소를 읽었습니다.\")\n",
        "  go_first()\n",
        "\n",
        "def add():\n",
        "  phone_book[nameEntry.get()] = phoneEntry.grt()\n",
        "  print(phone_book)\n",
        "  save()\n",
        "\n",
        "def go_first():\n",
        "  global current\n",
        "  current = 0\n",
        "  ks = list(phone_book)\n",
        "  print(phone_book)\n",
        "  nameEntry.delete(0, END)\n",
        "  nameEntry.insert(0, ks[current])\n",
        "  phoneEntry.delete(0, END)\n",
        "  phoneEntry.insert(0, phone_book[ks[current]])\n",
        "\n",
        "  def go_next():\n",
        "    global current\n",
        "    current += 1\n",
        "    ks = list(phone_book)\n",
        "    nameEntry.delete(0, END)\n",
        "    nameEntry.insert(0, ks[current])\n",
        "    phoneEntry.delete(0, END)\n",
        "    phoneEntry.insert(0, phone_book[ks[current]])\n",
        "\n",
        "def go_previous():\n",
        "  print(\"구현되지 않았음\")\n",
        "\n",
        "def go_last():\n",
        "  print(\"구현되지 않았음\")\n",
        "\n",
        "b1 = Button(frame3, text=\"추가\", command = add).grid(row=1, column=1)\n",
        "b2 = Button(frame3, text=\"처음\", command = go_first).grid(row=1, column=2)\n",
        "b3 = Button(frame3, text=\"다음\", command = go_next).grid(row=1, column=3)\n",
        "b4 = Button(frame3, text=\"이전\", command = go_previous).grid(row=1, column=4)\n",
        "b5 = Button(frame3, text=\"마지막\", command = go_last).grid(row=1, column=5)\n",
        "b6 = Button(frame3, text=\"파일 읽기\", command = load).grid(row=1, column=6)\n",
        "\n",
        "window.mainloop()"
      ],
      "metadata": {
        "id": "gfMSKO_ly0b8"
      },
      "execution_count": null,
      "outputs": []
    }
  ]
}